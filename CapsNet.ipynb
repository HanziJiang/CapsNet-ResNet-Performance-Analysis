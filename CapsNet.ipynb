{
  "nbformat": 4,
  "nbformat_minor": 0,
  "metadata": {
    "colab": {
      "name": "CapsNet.ipynb",
      "provenance": [],
      "collapsed_sections": [
        "_pkx4McDDItG",
        "XcYm7y8rECqg"
      ]
    },
    "kernelspec": {
      "name": "python3",
      "display_name": "Python 3"
    },
    "language_info": {
      "name": "python"
    },
    "accelerator": "GPU"
  },
  "cells": [
    {
      "cell_type": "markdown",
      "metadata": {
        "id": "PiQpTflFkuqi"
      },
      "source": [
        "# Capsule Neural Network (CapsNet) Implementation"
      ]
    },
    {
      "cell_type": "markdown",
      "metadata": {
        "id": "QDxJ_A_0Gnt9"
      },
      "source": [
        "Implementation of the paper [Dynamic Routing Between Capsules](https://arxiv.org/pdf/1710.09829.pdf) by Sara Sabour, Nicholas Frosst, and Geoffrey E. Hinton. Used [jindongwang/Pytorch-CapsuleNet](https://github.com/jindongwang/Pytorch-CapsuleNet) and [laubonghaudoi/CapsNet_guide_PyTorch](https://github.com/laubonghaudoi/CapsNet_guide_PyTorch) to clarify some confusions, and borrowed some code."
      ]
    },
    {
      "cell_type": "markdown",
      "metadata": {
        "id": "_pkx4McDDItG"
      },
      "source": [
        "## Setup PyTorch"
      ]
    },
    {
      "cell_type": "code",
      "metadata": {
        "colab": {
          "base_uri": "https://localhost:8080/"
        },
        "id": "peSdN_P8CElk",
        "outputId": "0831c8f6-f277-40f6-8b70-68dd12434d7f"
      },
      "source": [
        "!pip install torch torchvision\n",
        "!pip install matplotlib\n",
        "!pip install import-ipynb\n",
        "!pip install tqdm\n",
        "!pip install pytorch_extras"
      ],
      "execution_count": 3,
      "outputs": [
        {
          "output_type": "stream",
          "text": [
            "Requirement already satisfied: torch in /usr/local/lib/python3.7/dist-packages (1.8.1+cu101)\n",
            "Requirement already satisfied: torchvision in /usr/local/lib/python3.7/dist-packages (0.9.1+cu101)\n",
            "Requirement already satisfied: numpy in /usr/local/lib/python3.7/dist-packages (from torch) (1.19.5)\n",
            "Requirement already satisfied: typing-extensions in /usr/local/lib/python3.7/dist-packages (from torch) (3.7.4.3)\n",
            "Requirement already satisfied: pillow>=4.1.1 in /usr/local/lib/python3.7/dist-packages (from torchvision) (7.1.2)\n",
            "Requirement already satisfied: matplotlib in /usr/local/lib/python3.7/dist-packages (3.2.2)\n",
            "Requirement already satisfied: python-dateutil>=2.1 in /usr/local/lib/python3.7/dist-packages (from matplotlib) (2.8.1)\n",
            "Requirement already satisfied: numpy>=1.11 in /usr/local/lib/python3.7/dist-packages (from matplotlib) (1.19.5)\n",
            "Requirement already satisfied: kiwisolver>=1.0.1 in /usr/local/lib/python3.7/dist-packages (from matplotlib) (1.3.1)\n",
            "Requirement already satisfied: pyparsing!=2.0.4,!=2.1.2,!=2.1.6,>=2.0.1 in /usr/local/lib/python3.7/dist-packages (from matplotlib) (2.4.7)\n",
            "Requirement already satisfied: cycler>=0.10 in /usr/local/lib/python3.7/dist-packages (from matplotlib) (0.10.0)\n",
            "Requirement already satisfied: six>=1.5 in /usr/local/lib/python3.7/dist-packages (from python-dateutil>=2.1->matplotlib) (1.15.0)\n",
            "Collecting import-ipynb\n",
            "  Downloading https://files.pythonhosted.org/packages/63/35/495e0021bfdcc924c7cdec4e9fbb87c88dd03b9b9b22419444dc370c8a45/import-ipynb-0.1.3.tar.gz\n",
            "Building wheels for collected packages: import-ipynb\n",
            "  Building wheel for import-ipynb (setup.py) ... \u001b[?25l\u001b[?25hdone\n",
            "  Created wheel for import-ipynb: filename=import_ipynb-0.1.3-cp37-none-any.whl size=2976 sha256=c0a615f208e633f5fb8e40067102a0abc47ee3ae2f8ca3c5f0b111b8a995db80\n",
            "  Stored in directory: /root/.cache/pip/wheels/b4/7b/e9/a3a6e496115dffdb4e3085d0ae39ffe8a814eacc44bbf494b5\n",
            "Successfully built import-ipynb\n",
            "Installing collected packages: import-ipynb\n",
            "Successfully installed import-ipynb-0.1.3\n",
            "Requirement already satisfied: tqdm in /usr/local/lib/python3.7/dist-packages (4.41.1)\n",
            "Collecting pytorch_extras\n",
            "  Downloading https://files.pythonhosted.org/packages/66/79/42d7d9a78c27eb897b14790c9759dd9a991f67bc987e9e137527a68db9dc/pytorch-extras-0.1.3.tar.gz\n",
            "Building wheels for collected packages: pytorch-extras\n",
            "  Building wheel for pytorch-extras (setup.py) ... \u001b[?25l\u001b[?25hdone\n",
            "  Created wheel for pytorch-extras: filename=pytorch_extras-0.1.3-cp37-none-any.whl size=2833 sha256=8eaa185455f6b77e50c7bacfef82236cd08e1c05ccda15f07284cbb0a09717c9\n",
            "  Stored in directory: /root/.cache/pip/wheels/5b/7c/5a/f27d4088adfe722cb280d523a1ed9eeb33be11b8d3a653292a\n",
            "Successfully built pytorch-extras\n",
            "Installing collected packages: pytorch-extras\n",
            "Successfully installed pytorch-extras-0.1.3\n"
          ],
          "name": "stdout"
        }
      ]
    },
    {
      "cell_type": "code",
      "metadata": {
        "colab": {
          "base_uri": "https://localhost:8080/"
        },
        "id": "YMdBumXa75tw",
        "outputId": "ea9c9fdd-313a-46d8-e9e8-7c6c8be59f17"
      },
      "source": [
        "from google.colab import drive\n",
        "drive.mount(\"mnt\")"
      ],
      "execution_count": 4,
      "outputs": [
        {
          "output_type": "stream",
          "text": [
            "Mounted at mnt\n"
          ],
          "name": "stdout"
        }
      ]
    },
    {
      "cell_type": "code",
      "metadata": {
        "colab": {
          "base_uri": "https://localhost:8080/"
        },
        "id": "wlYHtO737_dA",
        "outputId": "b012b6d8-4b95-4ddf-eb6e-48e401f3b48e"
      },
      "source": [
        "%cd \"mnt/My Drive\""
      ],
      "execution_count": 5,
      "outputs": [
        {
          "output_type": "stream",
          "text": [
            "/content/mnt/My Drive\n"
          ],
          "name": "stdout"
        }
      ]
    },
    {
      "cell_type": "code",
      "metadata": {
        "id": "rsZEHMrIEVz6",
        "colab": {
          "base_uri": "https://localhost:8080/"
        },
        "outputId": "af343b67-9667-4229-841a-e0838b9d9bbc"
      },
      "source": [
        "import torch\n",
        "import matplotlib as mpl\n",
        "import matplotlib.pyplot as plt\n",
        "import torch_extras\n",
        "import torch.nn as nn\n",
        "import torchvision.utils as tv_utils\n",
        "import torch.nn.functional as F\n",
        "from torch.autograd import Variable\n",
        "import import_ipynb\n",
        "import load_DrawData\n",
        "import numpy as np\n",
        "import argparse\n",
        "from tqdm import tqdm\n",
        "%matplotlib inline\n",
        "# %mkdir -p /content/project/\n",
        "# %cd /content/project/"
      ],
      "execution_count": 6,
      "outputs": [
        {
          "output_type": "stream",
          "text": [
            "importing Jupyter notebook from load_DrawData.ipynb\n",
            "Collecting ndjson\n",
            "  Downloading https://files.pythonhosted.org/packages/70/c9/04ba0056011ba96a58163ebfd666d8385300bd12da1afe661a5a147758d7/ndjson-0.3.1-py2.py3-none-any.whl\n",
            "Installing collected packages: ndjson\n",
            "Successfully installed ndjson-0.3.1\n",
            "Collecting cairocffi\n",
            "\u001b[?25l  Downloading https://files.pythonhosted.org/packages/84/ca/0bffed5116d21251469df200448667e90acaa5131edea869b44a3fbc73d0/cairocffi-1.2.0.tar.gz (70kB)\n",
            "\u001b[K     |████████████████████████████████| 71kB 3.7MB/s \n",
            "\u001b[?25hRequirement already satisfied: cffi>=1.1.0 in /usr/local/lib/python3.7/dist-packages (from cairocffi) (1.14.5)\n",
            "Requirement already satisfied: pycparser in /usr/local/lib/python3.7/dist-packages (from cffi>=1.1.0->cairocffi) (2.20)\n",
            "Building wheels for collected packages: cairocffi\n",
            "  Building wheel for cairocffi (setup.py) ... \u001b[?25l\u001b[?25hdone\n",
            "  Created wheel for cairocffi: filename=cairocffi-1.2.0-cp37-none-any.whl size=89548 sha256=4594b485a0e979b2a8454cbcca02efbd052d03fb2acf6382e364851fb4c42118\n",
            "  Stored in directory: /root/.cache/pip/wheels/40/76/48/f1effadceea83b32e7d957dd0f92db4db8b537d7b72b4ef374\n",
            "Successfully built cairocffi\n",
            "Installing collected packages: cairocffi\n",
            "Successfully installed cairocffi-1.2.0\n",
            "mkdir: cannot create directory ‘quickDrawData’: File exists\n",
            "gs://quickdraw_dataset/full/simplified/apple.ndjson\n",
            "Copying gs://quickdraw_dataset/full/simplified/apple.ndjson...\n",
            "| [1/1 files][ 56.1 MiB/ 56.1 MiB] 100% Done                                    \n",
            "Operation completed over 1 objects/56.1 MiB.                                     \n",
            "gs://quickdraw_dataset/full/simplified/face.ndjson\n",
            "Copying gs://quickdraw_dataset/full/simplified/face.ndjson...\n",
            "/ [1/1 files][ 89.4 MiB/ 89.4 MiB] 100% Done                                    \n",
            "Operation completed over 1 objects/89.4 MiB.                                     \n",
            "Mounted at /content/drive\n",
            "7 420\n",
            "3 180\n"
          ],
          "name": "stdout"
        }
      ]
    },
    {
      "cell_type": "markdown",
      "metadata": {
        "id": "XcYm7y8rECqg"
      },
      "source": [
        "## CapsNet Modules"
      ]
    },
    {
      "cell_type": "code",
      "metadata": {
        "id": "fC4zxyWWeF-k"
      },
      "source": [
        "def squash(s):\n",
        "    '''Non-linear \"squashing\" function to ensure that short vectors get shrunk \n",
        "    to almost zero length and long vectors get shrunk to a length slightly \n",
        "    below 1. Equation (1) in the paper.\n",
        "    \n",
        "    Input:\n",
        "      s: \ttotal input vector\n",
        "    \n",
        "    Output:\n",
        "      squashed output vector\n",
        "    '''\n",
        "    norm_sqrd = torch.sum(s**2, dim=2, keepdim=True)\n",
        "    return (norm_sqrd / (1 + norm_sqrd)) * (s / (torch.sqrt(norm_sqrd) + 1e-8))"
      ],
      "execution_count": 7,
      "outputs": []
    },
    {
      "cell_type": "code",
      "metadata": {
        "id": "VdGH3V4jJPmQ"
      },
      "source": [
        "class PrimaryCapsules(nn.Module):\n",
        "    '''The layer after Conv1. Section 4 of the paper.\n",
        "    '''\n",
        "\n",
        "    def __init__(self):\n",
        "        super(PrimaryCapsules, self).__init__()\n",
        "        self.capsules = nn.ModuleList(\n",
        "            [nn.Conv2d(in_channels=256,\n",
        "                    out_channels=8,\n",
        "                    kernel_size=9,\n",
        "                    stride=2)\n",
        "            for i in range(32)]\n",
        "        )\n",
        "\n",
        "    def forward(self, x):\n",
        "        '''Section 4 of the paper.\n",
        "\n",
        "        Input:\n",
        "        x: outut of the ReLUConv1 layer, of shape (batch_size x 256 x 20 x 20)\n",
        "\n",
        "        Output:\n",
        "        squashed PrimaryCapsules output tensor, of shape (batch_size x 1152 x 8)\n",
        "        '''\n",
        "        batch_size = x.size(0)\n",
        "        \n",
        "        # Get the output of each primary capsule; combine and prepare them to \n",
        "        # serve as the input to the next layer (DoodleCapsules)\n",
        "        all_u = []\n",
        "        for cap in self.capsules:\n",
        "            u = cap(x)  # (batch_size x 8 x 6 x 6)\n",
        "            u = u.view(batch_size, 8, 36, 1)  # (batch_size x 8 x 36 x 1)\n",
        "            all_u.append(u)\n",
        "        all_u = torch.cat(all_u, dim=3)  # (batch_size x 8 x 36 x 32)\n",
        "        all_u = all_u.view(batch_size, 8, -1)  # (batch_size x 8 x 1152)\n",
        "        all_u = torch.transpose(all_u, 1, 2)  # (batch_size x 1152 x 8)\n",
        "        all_u = squash(all_u)  # (batch_size x 1152 x 8)\n",
        "        \n",
        "        return all_u"
      ],
      "execution_count": 8,
      "outputs": []
    },
    {
      "cell_type": "code",
      "metadata": {
        "id": "Xz1tFdzkaHyP"
      },
      "source": [
        "class DoodleCapsules(nn.Module):\n",
        "    '''The layer after PrimaryCapsules. Section 4 of the paper.\n",
        "    '''\n",
        "\n",
        "    def __init__(self, opt):\n",
        "        super(DoodleCapsules, self).__init__()\n",
        "        self.opt = opt\n",
        "        self.W = nn.Parameter(torch.randn(1, 1152, opt.n_classes, 8, 16))\n",
        "    \n",
        "    def forward(self, u):\n",
        "        '''Equation (2) and Procedure 1 in the paper.\n",
        "\n",
        "        Input:\n",
        "        u: output of the PrimaryCapsules layer, of shape (batch_size x 8)\n",
        "\n",
        "        Output:\n",
        "        output tensor of the DoodleCapsules layer, of shape (batch_size x 1152 x n_classes x 1)\n",
        "        '''\n",
        "        batch_size = u.size(0)\n",
        "        \n",
        "        u = torch.unsqueeze(u, dim=2)  # (batch_size x 1 x 8)\n",
        "        u = torch.unsqueeze(u, dim=2)  # (batch_size x 1 x 1 x 8)\n",
        "        u_hat = torch.matmul(u, self.W).squeeze()  # (batch_size x 1152 x n_classes x 16)\n",
        "\n",
        "        b = Variable(torch.zeros(batch_size, 1152, self.opt.n_classes, 1))  # (batch_size x 1152 x n_classes x 1)\n",
        "        if self.opt.use_cuda & torch.cuda.is_available(): b = b.cuda()\n",
        "\n",
        "        for i in range(self.opt.iterations):\n",
        "            c = F.softmax(b, dim=2)  # (batch_size x 1152 x n_classes x 1)\n",
        "            s = torch.sum(u_hat * c, dim=1)  # (batch_size x n_classes x 16)\n",
        "            v = squash(s)  # (batch_size x n_classes x 16)\n",
        "            b = b + torch.sum(u_hat * v.unsqueeze(1), dim=3, keepdim=True)  # (batch_size x 1152 x n_classes x 1)\n",
        "        \n",
        "        return v  # (batch_size x n_classes x 16)"
      ],
      "execution_count": 9,
      "outputs": []
    },
    {
      "cell_type": "code",
      "metadata": {
        "id": "q-k05aXUmDs8"
      },
      "source": [
        "class DoodleDecoder(nn.Module):\n",
        "    '''Decoder structure to reconstruct the doodle from the output of the DoodleCapsules layer.\n",
        "    Section 4 of the paper. For an illustrative explaination, see Figure 2 of the paper.\n",
        "    '''\n",
        "\n",
        "    def __init__(self, opt):\n",
        "        super(DoodleDecoder, self).__init__()\n",
        "        self.opt = opt\n",
        "        self.layers = nn.Sequential(\n",
        "            nn.Linear(opt.n_classes * 16, 512),\n",
        "            nn.ReLU(inplace=True),\n",
        "            nn.Linear(512, 1024),\n",
        "            nn.ReLU(inplace=True),\n",
        "            nn.Linear(1024, opt.height * opt.width),\n",
        "            nn.Sigmoid()\n",
        "        )\n",
        "\n",
        "    def forward(self, v, target):\n",
        "        '''Takes a 16-dimensional vector v from the *correct* DoodleCapsules, and \n",
        "        learns to decode it into an image of a doodle. Mask out the other (n_classes - 1) classes.\n",
        "        Section 4 of the paper. For an illustrative explaination, see Figure 2 of the paper.\n",
        "\n",
        "        Input:\n",
        "        v: output of DoodleCapsules, of shape (batch_size x n_classes x 16)\n",
        "        target: one-hot targets, of shape (batch_size, n_classes)\n",
        "\n",
        "        Output:\n",
        "        decoder constructed images, of shape (batch_size x 784)\n",
        "        '''\n",
        "        # TODO: the true target or the most probable?\n",
        "        # correct = torch.sqrt((v ** 2).sum(2))  # (batch_size x n_classes)\n",
        "        # correct = F.softmax(correct, dim=0)  # (batch_size x n_classes)\n",
        "        # correct = correct.max(dim=1)[1]  # (batch_size)\n",
        "        batch_size = v.size(0)\n",
        "\n",
        "        # Create the mask, which is 1 only for the correct class and 0 otherwise\n",
        "        mask = target.type(torch.FloatTensor).unsqueeze(-1)  # (batch_size x n_classes x 1)\n",
        "        mask = torch.repeat_interleave(mask, 16, dim=2)  # (batch_size x n_classes x 16)\n",
        "        if self.opt.use_cuda & torch.cuda.is_available(): mask = mask.cuda()\n",
        "        assert(mask.size() == torch.Size([batch_size, 2, 16]))\n",
        "        \n",
        "        masked = (v * mask).view(batch_size, -1)  # (batch_size x n_classes x 16)\n",
        "        result = self.layers(masked)  # (batch_size x 784)\n",
        "        assert(result.size() == torch.Size([batch_size, 784]))\n",
        "        \n",
        "        return result"
      ],
      "execution_count": 10,
      "outputs": []
    },
    {
      "cell_type": "code",
      "metadata": {
        "id": "CH6pouLtXQnx"
      },
      "source": [
        "class CapsuleNetwork(nn.Module):\n",
        "    '''Consists of a ReLU Convolution layer, a PrimaryCapsules layer, a DoodleCapsules\n",
        "    layer, and a Decoder layer. Section 4 of the paper.\n",
        "    '''\n",
        "\n",
        "    def __init__(self, opt):\n",
        "        super(CapsuleNetwork, self).__init__()\n",
        "        self.opt = opt\n",
        "        self.ReLUConv1 = nn.Sequential(\n",
        "            nn.Conv2d(in_channels=1, out_channels=256, kernel_size=9),\n",
        "            nn.ReLU()\n",
        "        )\n",
        "        self.PrimaryCapsules = PrimaryCapsules()\n",
        "        self.DoodleCapsules = DoodleCapsules(opt)\n",
        "        self.DoodleDecoder = DoodleDecoder(opt)\n",
        "    \n",
        "    def forward(self, x):\n",
        "        '''Section 4 of the paper.\n",
        "\n",
        "        Input:\n",
        "        the input to the network, of shape (batch_size x 28 x 28)\n",
        "\n",
        "        Output:\n",
        "        the output of the network, of shape (batch_size x n_classes x 16)\n",
        "        '''\n",
        "        v = torch.unsqueeze(x, 1)\n",
        "        v = self.ReLUConv1(v)  # (batch_size x 256 x 20 x 20)\n",
        "        v = self.PrimaryCapsules(v)  # (batch_size x 1152 x 8)\n",
        "        v = self.DoodleCapsules(v)  # (batch_size x n_classes x 16)\n",
        "        return v  # (batch_size x n_classes x 16)\n",
        "\n",
        "    def marginal_loss(self, v, target):\n",
        "        '''Section 3, Equation (4) of the paper.\n",
        "\n",
        "        Input:\n",
        "        v: the output of the network, of shape (batch_size x n_classes x 16)\n",
        "        target: the one-hot target, of shape (batch_size x n_classes)\n",
        "        lambd: a scalor for down-weighting of the loss for absent doodle classes\n",
        "        \n",
        "        Output:\n",
        "        marginal loss (a scalor summed over all batches and classes)\n",
        "        '''\n",
        "        v_norm = torch.sqrt((v ** 2).sum(dim=2))  # (batch_size x n_classes)\n",
        "        \n",
        "        zeros = torch.zeros(v_norm.size())  # (batch_size x n_classes)\n",
        "        if self.opt.use_cuda & torch.cuda.is_available(): zeros = zeros.cuda()\n",
        "        \n",
        "        max1 = torch.max(zeros, 0.9 - v_norm) ** 2  # (batch_size x n_classes)\n",
        "        max2 = torch.max(zeros, v_norm - 0.1) ** 2  # (batch_size x n_classes) \n",
        "        loss = target * max1 + (1 - target) * 0.5 * max2  # (batch_size x n_classes)\n",
        "        \n",
        "        return torch.sum(loss)  # scalor\n",
        "\n",
        "    def reconstruction_loss(self, data, reconstruction):\n",
        "        '''Reconstruction for regularization. Ecourages the doodle capsules to \n",
        "        encode the instantiation parameters of the input doodle. Section 4.1 of the paper.\n",
        "\n",
        "        Input:\n",
        "        data: the real image, of shape (batch_size, 28, 28)\n",
        "        reconstruction: the reconstructed image, of shape (batch_size, 784)\n",
        "\n",
        "        Output:\n",
        "        reconstruction loss (a scalor summed over all batches and classes)\n",
        "        '''\n",
        "        batch_size = data.size(0)\n",
        "        return torch.sum((reconstruction - data.view(batch_size, -1)) ** 2)\n",
        "\n",
        "    def loss(self, v, data, target):\n",
        "        '''Loss is marginal loss + 0.0005 * reconstruction loss. 0.0005 to ensure\n",
        "        the reconstruction loss does not dominate the training. Section 4.1 of the paper.\n",
        "\n",
        "        Input:\n",
        "        v: output of the network, of shape (batch_size x n_classes x 16)\n",
        "        target: one-hot target, of shape (batch_size x n_classes)\n",
        "        data: the input to the network (the image), of shape (batch_size, 28, 28)\n",
        "        \n",
        "        Output:\n",
        "        averaged loss (a scalor) over batches \n",
        "        averaged marginal loss (a scalor) over batches\n",
        "        averaged reconstruction loss (a scalor) over batches\n",
        "        '''\n",
        "        batch_size = data.size(0)\n",
        "        \n",
        "        marginal_loss = self.marginal_loss(v, target)  # scalor\n",
        "        \n",
        "        reconstruction = self.DoodleDecoder(v, target)  # (batch_size, 784)\n",
        "        reconstruction_loss = self.reconstruction_loss(data, reconstruction)  # scalor\n",
        "        \n",
        "        loss = marginal_loss + 0.0005 * reconstruction_loss  # scalor\n",
        "        \n",
        "        return loss/batch_size, marginal_loss/batch_size, reconstruction_loss/batch_size"
      ],
      "execution_count": 11,
      "outputs": []
    },
    {
      "cell_type": "markdown",
      "metadata": {
        "id": "zKPXAofhnYhK"
      },
      "source": [
        "## Training"
      ]
    },
    {
      "cell_type": "code",
      "metadata": {
        "id": "Holn-KGHnvZH"
      },
      "source": [
        "def get_opts():\n",
        "    parser = argparse.ArgumentParser(description='CapsuleNetwork')\n",
        "    parser.add_argument('-batch_size', type=int, default=60)\n",
        "    parser.add_argument('-lr', type=float, default=1e-5)\n",
        "    parser.add_argument('-epochs', type=int, default=1000)\n",
        "    parser.add_argument('-width', type=int, default=28)\n",
        "    parser.add_argument('-height', type=int, default=28)\n",
        "    parser.add_argument('-n_classes', type=int, default=2)\n",
        "    parser.add_argument('-iterations', type=int, default=3)\n",
        "    parser.add_argument('-use_cuda', default=True)\n",
        "    parser.add_argument('-print_every', type=int, default=10)\n",
        "    parser.add_argument('-gamma', type=float, default=0.98)\n",
        "    opt, _ = parser.parse_known_args()\n",
        "    return opt"
      ],
      "execution_count": 42,
      "outputs": []
    },
    {
      "cell_type": "code",
      "metadata": {
        "id": "QQCM0T0_1d5W"
      },
      "source": [
        "def test(opt, test_loader, model, epoch, num_batches):\n",
        "    sum_loss = 0\n",
        "    sum_marginal_loss = 0\n",
        "    sum_reconstruction_loss = 0\n",
        "    correct = 0\n",
        "    num_sample = len(test_loader.dataset)\n",
        "    num_batch = len(test_loader)\n",
        "\n",
        "    model.eval()\n",
        "    for data, target in test_loader:\n",
        "        data = data.to(torch.float32)\n",
        "        target = target.to(torch.int64)\n",
        "        batch_size = data.size(0)\n",
        "        assert target.size() == torch.Size([batch_size, opt.n_classes])\n",
        "\n",
        "        # Use GPU if available\n",
        "        with torch.no_grad():\n",
        "            data, target = Variable(data), Variable(target)\n",
        "        if opt.use_cuda & torch.cuda.is_available():\n",
        "            data, target = data.cuda(), target.cuda()\n",
        "\n",
        "        output = model(data)  # (batch_size, n_classes, 16)\n",
        "        loss, marginal_loss, reconstruction_loss = model.loss(output, data, target)\n",
        "        sum_loss += loss.item()\n",
        "        sum_marginal_loss += marginal_loss.item()\n",
        "        sum_reconstruction_loss += reconstruction_loss.item()\n",
        "\n",
        "        norms = torch.sqrt(torch.sum(output**2, dim=2))  # (batch_size, n_classes)\n",
        "        pred = norms.data.max(1, keepdim=True)[1].type(torch.LongTensor)  # (batch_size, 1)\n",
        "        label = target.max(1, keepdim=True)[1].type(torch.LongTensor)  # (batch_size, 1)\n",
        "        correct += pred.eq(label.view_as(pred)).cpu().sum().item()\n",
        "\n",
        "    recons = model.DoodleDecoder(output, target)\n",
        "    recons = recons.view(batch_size, 1, 28, 28)\n",
        "    recons = tv_utils.make_grid(recons.data, normalize=True, scale_each=True)\n",
        "\n",
        "    sum_loss /= num_batch\n",
        "    sum_marginal_loss /= num_batch\n",
        "    sum_reconstruction_loss /= num_batch\n",
        "    \n",
        "    print('\\nTest loss: {:.4f}   Marginal loss: {:.4f}   Reconstruction loss: {:.4f}'.format(\n",
        "        sum_loss, sum_marginal_loss, sum_reconstruction_loss))\n",
        "    print('\\nAccuracy: {}/{} {:.4f}\\n'.format(correct, num_sample,\n",
        "        correct / num_sample))"
      ],
      "execution_count": 43,
      "outputs": []
    },
    {
      "cell_type": "code",
      "metadata": {
        "id": "jcoOvQfb1bVn"
      },
      "source": [
        "def train(opt, train_loader, test_loader, model):\n",
        "    num_sample = len(train_loader.dataset)\n",
        "    num_batches = len(train_loader)\n",
        "    train_loss_list = []\n",
        "    loss_val = 0.\n",
        "\n",
        "    optimizer = torch.optim.Adam(model.parameters(), lr=opt.lr)\n",
        "    scheduler = torch.optim.lr_scheduler.ExponentialLR(optimizer, opt.gamma)\n",
        "    model.train()\n",
        "    for epoch in range(opt.epochs):\n",
        "        scheduler.step()\n",
        "\n",
        "        for batch_idx, (data, target) in enumerate(train_loader):\n",
        "            optimizer.zero_grad()\n",
        "            data = data.to(torch.float32)\n",
        "            batch_size = data.size(0)\n",
        "            target = target.to(torch.int64)\n",
        "            assert target.size() == torch.Size([batch_size, opt.n_classes])\n",
        "\n",
        "            # Use GPU if available\n",
        "            with torch.no_grad():\n",
        "                data, target = Variable(data), Variable(target)\n",
        "            if opt.use_cuda & torch.cuda.is_available():\n",
        "                data, target = data.cuda(), target.cuda()\n",
        "            \n",
        "            output = model(data)\n",
        "            loss, marginal_loss, reconstruction_loss = model.loss(output, data, target)\n",
        "            loss_val = loss.item()\n",
        "\n",
        "            # if batch_idx % opt.print_every == 0:\n",
        "            #      tqdm.write('\\nEpoch: {}    Training loss: {:.4f}   Marginal loss: {:.4f}   Reconstruction loss: {:.4f}'.format(epoch, loss.item(), marginal_loss.item(), reconstruction_loss.item()))\n",
        "            \n",
        "            loss.backward()\n",
        "            optimizer.step()\n",
        "\n",
        "        if epoch % 50 == 0: \n",
        "            train_loss_list.append(loss_val)\n",
        "        if epoch % 100 == 0:\n",
        "            print('Epoch: {}'.format(epoch))\n",
        "            print('Learning rate: {:.2e}'.format(scheduler.get_last_lr()[0]))\n",
        "            test(opt, test_loader, model, epoch, num_batches) \n",
        "    fig = plt.figure()\n",
        "    plt.plot([i for i in range(len(train_loss_list))], train_loss_list, '-')"
      ],
      "execution_count": 44,
      "outputs": []
    },
    {
      "cell_type": "code",
      "metadata": {
        "colab": {
          "base_uri": "https://localhost:8080/",
          "height": 1000
        },
        "id": "4zXW1i3p1uq8",
        "outputId": "6d0e6ccc-9405-491e-a905-04ef16e1cad5"
      },
      "source": [
        "opt = get_opts()\n",
        "\n",
        "model = CapsuleNetwork(opt)\n",
        "if opt.use_cuda & torch.cuda.is_available():\n",
        "    model.cuda()\n",
        "\n",
        "train_loader = load_DrawData.train_loader\n",
        "test_loader = load_DrawData.val_loader\n",
        "\n",
        "train(opt, train_loader, test_loader, model)"
      ],
      "execution_count": 45,
      "outputs": [
        {
          "output_type": "stream",
          "text": [
            "/usr/local/lib/python3.7/dist-packages/torch/optim/lr_scheduler.py:134: UserWarning: Detected call of `lr_scheduler.step()` before `optimizer.step()`. In PyTorch 1.1.0 and later, you should call them in the opposite order: `optimizer.step()` before `lr_scheduler.step()`.  Failure to do this will result in PyTorch skipping the first value of the learning rate schedule. See more details at https://pytorch.org/docs/stable/optim.html#how-to-adjust-learning-rate\n",
            "  \"https://pytorch.org/docs/stable/optim.html#how-to-adjust-learning-rate\", UserWarning)\n"
          ],
          "name": "stderr"
        },
        {
          "output_type": "stream",
          "text": [
            "Epoch: 0\n",
            "Learning rate: 9.80e-06\n",
            "\n",
            "Test loss: 3506.3309   Marginal loss: 0.4050   Reconstruction loss: 7011851.6667\n",
            "\n",
            "Accuracy: 140/180 0.7778\n",
            "\n",
            "Epoch: 100\n",
            "Learning rate: 1.30e-06\n",
            "\n",
            "Test loss: 3502.4740   Marginal loss: 0.4050   Reconstruction loss: 7004137.8333\n",
            "\n",
            "Accuracy: 137/180 0.7611\n",
            "\n",
            "Epoch: 200\n",
            "Learning rate: 1.72e-07\n",
            "\n",
            "Test loss: 3501.5273   Marginal loss: 0.4050   Reconstruction loss: 7002244.1667\n",
            "\n",
            "Accuracy: 140/180 0.7778\n",
            "\n",
            "Epoch: 300\n",
            "Learning rate: 2.29e-08\n",
            "\n",
            "Test loss: 3501.4102   Marginal loss: 0.4050   Reconstruction loss: 7002010.3333\n",
            "\n",
            "Accuracy: 143/180 0.7944\n",
            "\n",
            "Epoch: 400\n",
            "Learning rate: 3.03e-09\n",
            "\n",
            "Test loss: 3501.3953   Marginal loss: 0.4050   Reconstruction loss: 7001980.5000\n",
            "\n",
            "Accuracy: 143/180 0.7944\n",
            "\n",
            "Epoch: 500\n",
            "Learning rate: 4.02e-10\n",
            "\n",
            "Test loss: 3501.3937   Marginal loss: 0.4050   Reconstruction loss: 7001977.1667\n",
            "\n",
            "Accuracy: 141/180 0.7833\n",
            "\n",
            "Epoch: 600\n",
            "Learning rate: 5.33e-11\n",
            "\n",
            "Test loss: 3501.3937   Marginal loss: 0.4050   Reconstruction loss: 7001977.1667\n",
            "\n",
            "Accuracy: 145/180 0.8056\n",
            "\n",
            "Epoch: 700\n",
            "Learning rate: 7.07e-12\n",
            "\n",
            "Test loss: 3501.3937   Marginal loss: 0.4050   Reconstruction loss: 7001977.1667\n",
            "\n",
            "Accuracy: 143/180 0.7944\n",
            "\n",
            "Epoch: 800\n",
            "Learning rate: 9.38e-13\n",
            "\n",
            "Test loss: 3501.3937   Marginal loss: 0.4050   Reconstruction loss: 7001977.1667\n",
            "\n",
            "Accuracy: 143/180 0.7944\n",
            "\n",
            "Epoch: 900\n",
            "Learning rate: 1.24e-13\n",
            "\n",
            "Test loss: 3501.3937   Marginal loss: 0.4050   Reconstruction loss: 7001977.1667\n",
            "\n",
            "Accuracy: 142/180 0.7889\n",
            "\n"
          ],
          "name": "stdout"
        },
        {
          "output_type": "display_data",
          "data": {
            "image/png": "[encoded data removed]",
            "text/plain": [
              "<Figure size 432x288 with 1 Axes>"
            ]
          },
          "metadata": {
            "tags": [],
            "needs_background": "light"
          }
        }
      ]
    },
    {
      "cell_type": "code",
      "metadata": {
        "colab": {
          "base_uri": "https://localhost:8080/"
        },
        "id": "z2DDy51S3eEa",
        "outputId": "8d28fd7d-aee1-458f-c9ac-41eeb77dc17b"
      },
      "source": [
        "print(len(load_DrawData.train_loader.dataset))\n",
        "print(len(load_DrawData.val_loader.dataset))\n",
        "\n",
        "#plt.plot(x, np.cos(x), '--');"
      ],
      "execution_count": 46,
      "outputs": [
        {
          "output_type": "stream",
          "text": [
            "420\n",
            "180\n"
          ],
          "name": "stdout"
        }
      ]
    }
  ]
}